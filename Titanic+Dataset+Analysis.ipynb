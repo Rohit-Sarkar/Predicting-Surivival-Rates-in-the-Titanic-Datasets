{
 "cells": [
  {
   "cell_type": "markdown",
   "metadata": {},
   "source": [
    "# Predict survial of the Titanic "
   ]
  },
  {
   "cell_type": "markdown",
   "metadata": {},
   "source": [
    "### Fundamental analysis on the famous Titanic Dataset using the logistic Regression and Visualization with seaborn."
   ]
  },
  {
   "cell_type": "markdown",
   "metadata": {},
   "source": [
    "#### Importing the train and test dataset "
   ]
  },
  {
   "cell_type": "code",
   "execution_count": 1,
   "metadata": {
    "collapsed": true
   },
   "outputs": [],
   "source": [
    "import numpy as np\n",
    "import pandas as pd\n",
    "import csv \n",
    "\n",
    "train = pd.read_csv('G:/My Data Science files/Logistic Regression/train.csv')\n",
    "test = pd.read_csv('G:/My Data Science files/Logistic Regression/test.csv')"
   ]
  },
  {
   "cell_type": "code",
   "execution_count": 2,
   "metadata": {},
   "outputs": [
    {
     "data": {
      "text/html": [
       "<div>\n",
       "<style>\n",
       "    .dataframe thead tr:only-child th {\n",
       "        text-align: right;\n",
       "    }\n",
       "\n",
       "    .dataframe thead th {\n",
       "        text-align: left;\n",
       "    }\n",
       "\n",
       "    .dataframe tbody tr th {\n",
       "        vertical-align: top;\n",
       "    }\n",
       "</style>\n",
       "<table border=\"1\" class=\"dataframe\">\n",
       "  <thead>\n",
       "    <tr style=\"text-align: right;\">\n",
       "      <th></th>\n",
       "      <th>PassengerId</th>\n",
       "      <th>Survived</th>\n",
       "      <th>Pclass</th>\n",
       "      <th>Name</th>\n",
       "      <th>Sex</th>\n",
       "      <th>Age</th>\n",
       "      <th>SibSp</th>\n",
       "      <th>Parch</th>\n",
       "      <th>Ticket</th>\n",
       "      <th>Fare</th>\n",
       "      <th>Cabin</th>\n",
       "      <th>Embarked</th>\n",
       "    </tr>\n",
       "  </thead>\n",
       "  <tbody>\n",
       "    <tr>\n",
       "      <th>0</th>\n",
       "      <td>1</td>\n",
       "      <td>0</td>\n",
       "      <td>3</td>\n",
       "      <td>Braund, Mr. Owen Harris</td>\n",
       "      <td>male</td>\n",
       "      <td>22.0</td>\n",
       "      <td>1</td>\n",
       "      <td>0</td>\n",
       "      <td>A/5 21171</td>\n",
       "      <td>7.2500</td>\n",
       "      <td>NaN</td>\n",
       "      <td>S</td>\n",
       "    </tr>\n",
       "    <tr>\n",
       "      <th>1</th>\n",
       "      <td>2</td>\n",
       "      <td>1</td>\n",
       "      <td>1</td>\n",
       "      <td>Cumings, Mrs. John Bradley (Florence Briggs Th...</td>\n",
       "      <td>female</td>\n",
       "      <td>38.0</td>\n",
       "      <td>1</td>\n",
       "      <td>0</td>\n",
       "      <td>PC 17599</td>\n",
       "      <td>71.2833</td>\n",
       "      <td>C85</td>\n",
       "      <td>C</td>\n",
       "    </tr>\n",
       "    <tr>\n",
       "      <th>2</th>\n",
       "      <td>3</td>\n",
       "      <td>1</td>\n",
       "      <td>3</td>\n",
       "      <td>Heikkinen, Miss. Laina</td>\n",
       "      <td>female</td>\n",
       "      <td>26.0</td>\n",
       "      <td>0</td>\n",
       "      <td>0</td>\n",
       "      <td>STON/O2. 3101282</td>\n",
       "      <td>7.9250</td>\n",
       "      <td>NaN</td>\n",
       "      <td>S</td>\n",
       "    </tr>\n",
       "    <tr>\n",
       "      <th>3</th>\n",
       "      <td>4</td>\n",
       "      <td>1</td>\n",
       "      <td>1</td>\n",
       "      <td>Futrelle, Mrs. Jacques Heath (Lily May Peel)</td>\n",
       "      <td>female</td>\n",
       "      <td>35.0</td>\n",
       "      <td>1</td>\n",
       "      <td>0</td>\n",
       "      <td>113803</td>\n",
       "      <td>53.1000</td>\n",
       "      <td>C123</td>\n",
       "      <td>S</td>\n",
       "    </tr>\n",
       "    <tr>\n",
       "      <th>4</th>\n",
       "      <td>5</td>\n",
       "      <td>0</td>\n",
       "      <td>3</td>\n",
       "      <td>Allen, Mr. William Henry</td>\n",
       "      <td>male</td>\n",
       "      <td>35.0</td>\n",
       "      <td>0</td>\n",
       "      <td>0</td>\n",
       "      <td>373450</td>\n",
       "      <td>8.0500</td>\n",
       "      <td>NaN</td>\n",
       "      <td>S</td>\n",
       "    </tr>\n",
       "  </tbody>\n",
       "</table>\n",
       "</div>"
      ],
      "text/plain": [
       "   PassengerId  Survived  Pclass  \\\n",
       "0            1         0       3   \n",
       "1            2         1       1   \n",
       "2            3         1       3   \n",
       "3            4         1       1   \n",
       "4            5         0       3   \n",
       "\n",
       "                                                Name     Sex   Age  SibSp  \\\n",
       "0                            Braund, Mr. Owen Harris    male  22.0      1   \n",
       "1  Cumings, Mrs. John Bradley (Florence Briggs Th...  female  38.0      1   \n",
       "2                             Heikkinen, Miss. Laina  female  26.0      0   \n",
       "3       Futrelle, Mrs. Jacques Heath (Lily May Peel)  female  35.0      1   \n",
       "4                           Allen, Mr. William Henry    male  35.0      0   \n",
       "\n",
       "   Parch            Ticket     Fare Cabin Embarked  \n",
       "0      0         A/5 21171   7.2500   NaN        S  \n",
       "1      0          PC 17599  71.2833   C85        C  \n",
       "2      0  STON/O2. 3101282   7.9250   NaN        S  \n",
       "3      0            113803  53.1000  C123        S  \n",
       "4      0            373450   8.0500   NaN        S  "
      ]
     },
     "execution_count": 2,
     "metadata": {},
     "output_type": "execute_result"
    }
   ],
   "source": [
    "train.head()"
   ]
  },
  {
   "cell_type": "code",
   "execution_count": 3,
   "metadata": {},
   "outputs": [
    {
     "data": {
      "text/html": [
       "<div>\n",
       "<style>\n",
       "    .dataframe thead tr:only-child th {\n",
       "        text-align: right;\n",
       "    }\n",
       "\n",
       "    .dataframe thead th {\n",
       "        text-align: left;\n",
       "    }\n",
       "\n",
       "    .dataframe tbody tr th {\n",
       "        vertical-align: top;\n",
       "    }\n",
       "</style>\n",
       "<table border=\"1\" class=\"dataframe\">\n",
       "  <thead>\n",
       "    <tr style=\"text-align: right;\">\n",
       "      <th></th>\n",
       "      <th>PassengerId</th>\n",
       "      <th>Survived</th>\n",
       "      <th>Pclass</th>\n",
       "      <th>Age</th>\n",
       "      <th>SibSp</th>\n",
       "      <th>Parch</th>\n",
       "      <th>Fare</th>\n",
       "    </tr>\n",
       "  </thead>\n",
       "  <tbody>\n",
       "    <tr>\n",
       "      <th>count</th>\n",
       "      <td>891.000000</td>\n",
       "      <td>891.000000</td>\n",
       "      <td>891.000000</td>\n",
       "      <td>714.000000</td>\n",
       "      <td>891.000000</td>\n",
       "      <td>891.000000</td>\n",
       "      <td>891.000000</td>\n",
       "    </tr>\n",
       "    <tr>\n",
       "      <th>mean</th>\n",
       "      <td>446.000000</td>\n",
       "      <td>0.383838</td>\n",
       "      <td>2.308642</td>\n",
       "      <td>29.699118</td>\n",
       "      <td>0.523008</td>\n",
       "      <td>0.381594</td>\n",
       "      <td>32.204208</td>\n",
       "    </tr>\n",
       "    <tr>\n",
       "      <th>std</th>\n",
       "      <td>257.353842</td>\n",
       "      <td>0.486592</td>\n",
       "      <td>0.836071</td>\n",
       "      <td>14.526497</td>\n",
       "      <td>1.102743</td>\n",
       "      <td>0.806057</td>\n",
       "      <td>49.693429</td>\n",
       "    </tr>\n",
       "    <tr>\n",
       "      <th>min</th>\n",
       "      <td>1.000000</td>\n",
       "      <td>0.000000</td>\n",
       "      <td>1.000000</td>\n",
       "      <td>0.420000</td>\n",
       "      <td>0.000000</td>\n",
       "      <td>0.000000</td>\n",
       "      <td>0.000000</td>\n",
       "    </tr>\n",
       "    <tr>\n",
       "      <th>25%</th>\n",
       "      <td>223.500000</td>\n",
       "      <td>0.000000</td>\n",
       "      <td>2.000000</td>\n",
       "      <td>20.125000</td>\n",
       "      <td>0.000000</td>\n",
       "      <td>0.000000</td>\n",
       "      <td>7.910400</td>\n",
       "    </tr>\n",
       "    <tr>\n",
       "      <th>50%</th>\n",
       "      <td>446.000000</td>\n",
       "      <td>0.000000</td>\n",
       "      <td>3.000000</td>\n",
       "      <td>28.000000</td>\n",
       "      <td>0.000000</td>\n",
       "      <td>0.000000</td>\n",
       "      <td>14.454200</td>\n",
       "    </tr>\n",
       "    <tr>\n",
       "      <th>75%</th>\n",
       "      <td>668.500000</td>\n",
       "      <td>1.000000</td>\n",
       "      <td>3.000000</td>\n",
       "      <td>38.000000</td>\n",
       "      <td>1.000000</td>\n",
       "      <td>0.000000</td>\n",
       "      <td>31.000000</td>\n",
       "    </tr>\n",
       "    <tr>\n",
       "      <th>max</th>\n",
       "      <td>891.000000</td>\n",
       "      <td>1.000000</td>\n",
       "      <td>3.000000</td>\n",
       "      <td>80.000000</td>\n",
       "      <td>8.000000</td>\n",
       "      <td>6.000000</td>\n",
       "      <td>512.329200</td>\n",
       "    </tr>\n",
       "  </tbody>\n",
       "</table>\n",
       "</div>"
      ],
      "text/plain": [
       "       PassengerId    Survived      Pclass         Age       SibSp  \\\n",
       "count   891.000000  891.000000  891.000000  714.000000  891.000000   \n",
       "mean    446.000000    0.383838    2.308642   29.699118    0.523008   \n",
       "std     257.353842    0.486592    0.836071   14.526497    1.102743   \n",
       "min       1.000000    0.000000    1.000000    0.420000    0.000000   \n",
       "25%     223.500000    0.000000    2.000000   20.125000    0.000000   \n",
       "50%     446.000000    0.000000    3.000000   28.000000    0.000000   \n",
       "75%     668.500000    1.000000    3.000000   38.000000    1.000000   \n",
       "max     891.000000    1.000000    3.000000   80.000000    8.000000   \n",
       "\n",
       "            Parch        Fare  \n",
       "count  891.000000  891.000000  \n",
       "mean     0.381594   32.204208  \n",
       "std      0.806057   49.693429  \n",
       "min      0.000000    0.000000  \n",
       "25%      0.000000    7.910400  \n",
       "50%      0.000000   14.454200  \n",
       "75%      0.000000   31.000000  \n",
       "max      6.000000  512.329200  "
      ]
     },
     "execution_count": 3,
     "metadata": {},
     "output_type": "execute_result"
    }
   ],
   "source": [
    "train.describe()"
   ]
  },
  {
   "cell_type": "code",
   "execution_count": 4,
   "metadata": {},
   "outputs": [
    {
     "data": {
      "text/plain": [
       "PassengerId      0\n",
       "Survived         0\n",
       "Pclass           0\n",
       "Name             0\n",
       "Sex              0\n",
       "Age            177\n",
       "SibSp            0\n",
       "Parch            0\n",
       "Ticket           0\n",
       "Fare             0\n",
       "Cabin          687\n",
       "Embarked         2\n",
       "dtype: int64"
      ]
     },
     "execution_count": 4,
     "metadata": {},
     "output_type": "execute_result"
    }
   ],
   "source": [
    "# To find the number of missing values in a dataframe\n",
    "\n",
    "train.isnull().sum()"
   ]
  },
  {
   "cell_type": "code",
   "execution_count": 5,
   "metadata": {},
   "outputs": [
    {
     "data": {
      "text/html": [
       "<div>\n",
       "<style>\n",
       "    .dataframe thead tr:only-child th {\n",
       "        text-align: right;\n",
       "    }\n",
       "\n",
       "    .dataframe thead th {\n",
       "        text-align: left;\n",
       "    }\n",
       "\n",
       "    .dataframe tbody tr th {\n",
       "        vertical-align: top;\n",
       "    }\n",
       "</style>\n",
       "<table border=\"1\" class=\"dataframe\">\n",
       "  <thead>\n",
       "    <tr style=\"text-align: right;\">\n",
       "      <th></th>\n",
       "      <th>Survived</th>\n",
       "      <th>Pclass</th>\n",
       "      <th>Sex</th>\n",
       "      <th>Age</th>\n",
       "      <th>SibSp</th>\n",
       "      <th>Parch</th>\n",
       "      <th>Fare</th>\n",
       "      <th>Embarked</th>\n",
       "    </tr>\n",
       "  </thead>\n",
       "  <tbody>\n",
       "    <tr>\n",
       "      <th>0</th>\n",
       "      <td>0</td>\n",
       "      <td>Lower Class</td>\n",
       "      <td>male</td>\n",
       "      <td>22.0</td>\n",
       "      <td>1</td>\n",
       "      <td>0</td>\n",
       "      <td>7.2500</td>\n",
       "      <td>S</td>\n",
       "    </tr>\n",
       "    <tr>\n",
       "      <th>1</th>\n",
       "      <td>1</td>\n",
       "      <td>High Class</td>\n",
       "      <td>female</td>\n",
       "      <td>38.0</td>\n",
       "      <td>1</td>\n",
       "      <td>0</td>\n",
       "      <td>71.2833</td>\n",
       "      <td>C</td>\n",
       "    </tr>\n",
       "    <tr>\n",
       "      <th>2</th>\n",
       "      <td>1</td>\n",
       "      <td>Lower Class</td>\n",
       "      <td>female</td>\n",
       "      <td>26.0</td>\n",
       "      <td>0</td>\n",
       "      <td>0</td>\n",
       "      <td>7.9250</td>\n",
       "      <td>S</td>\n",
       "    </tr>\n",
       "    <tr>\n",
       "      <th>3</th>\n",
       "      <td>1</td>\n",
       "      <td>High Class</td>\n",
       "      <td>female</td>\n",
       "      <td>35.0</td>\n",
       "      <td>1</td>\n",
       "      <td>0</td>\n",
       "      <td>53.1000</td>\n",
       "      <td>S</td>\n",
       "    </tr>\n",
       "    <tr>\n",
       "      <th>4</th>\n",
       "      <td>0</td>\n",
       "      <td>Lower Class</td>\n",
       "      <td>male</td>\n",
       "      <td>35.0</td>\n",
       "      <td>0</td>\n",
       "      <td>0</td>\n",
       "      <td>8.0500</td>\n",
       "      <td>S</td>\n",
       "    </tr>\n",
       "  </tbody>\n",
       "</table>\n",
       "</div>"
      ],
      "text/plain": [
       "   Survived       Pclass     Sex   Age  SibSp  Parch     Fare Embarked\n",
       "0         0  Lower Class    male  22.0      1      0   7.2500        S\n",
       "1         1   High Class  female  38.0      1      0  71.2833        C\n",
       "2         1  Lower Class  female  26.0      0      0   7.9250        S\n",
       "3         1   High Class  female  35.0      1      0  53.1000        S\n",
       "4         0  Lower Class    male  35.0      0      0   8.0500        S"
      ]
     },
     "execution_count": 5,
     "metadata": {},
     "output_type": "execute_result"
    }
   ],
   "source": [
    "# dropping the irrelevant columns\n",
    "train1 = train.drop(['PassengerId','Name','Ticket','Cabin'], axis=1)\n",
    "\n",
    "# nice way to encode the categorical values \n",
    "cleanup_nums = {\"Pclass\":     {1: \"High Class\", 2:\"Medium Class\" , 3:\"Lower Class\"}}\n",
    "train1.replace(cleanup_nums, inplace=True)\n",
    "train1.head()\n",
    "        "
   ]
  },
  {
   "cell_type": "code",
   "execution_count": 6,
   "metadata": {},
   "outputs": [
    {
     "data": {
      "text/plain": [
       "<matplotlib.axes._subplots.AxesSubplot at 0x28e311ec0f0>"
      ]
     },
     "execution_count": 6,
     "metadata": {},
     "output_type": "execute_result"
    },
    {
     "data": {
      "image/png": "[encoded data removed]",
      "text/plain": [
       "<matplotlib.figure.Figure at 0x28e2ef08630>"
      ]
     },
     "metadata": {},
     "output_type": "display_data"
    }
   ],
   "source": [
    "# grouping the age and fare \n",
    "\n",
    "import matplotlib.pyplot as plt\n",
    "import seaborn as sns\n",
    "\n",
    "%matplotlib inline\n",
    "\n",
    "age = train1['Age'].dropna(axis=0)\n",
    "age.to_string\n",
    "\n",
    "sns.distplot(age,bins=10,kde=True,rug=True)\n",
    "\n",
    "# there are two ways to handle this missing values either we can impute the data using the regression or \n",
    "# we can remove those values\n"
   ]
  },
  {
   "cell_type": "code",
   "execution_count": 7,
   "metadata": {},
   "outputs": [
    {
     "data": {
      "text/plain": [
       "<matplotlib.axes._subplots.AxesSubplot at 0x28e315111d0>"
      ]
     },
     "execution_count": 7,
     "metadata": {},
     "output_type": "execute_result"
    },
    {
     "data": {
      "image/png": "[encoded data removed]",
      "text/plain": [
       "<matplotlib.figure.Figure at 0x28e2eedf5f8>"
      ]
     },
     "metadata": {},
     "output_type": "display_data"
    }
   ],
   "source": [
    "# distribution of the fare \n",
    "fare = train1['Fare']\n",
    "fare.to_string\n",
    "sns.distplot(fare,kde=True,rug=True)"
   ]
  },
  {
   "cell_type": "code",
   "execution_count": 8,
   "metadata": {},
   "outputs": [
    {
     "data": {
      "text/plain": [
       "<matplotlib.axes._subplots.AxesSubplot at 0x28e32695eb8>"
      ]
     },
     "execution_count": 8,
     "metadata": {},
     "output_type": "execute_result"
    },
    {
     "data": {
      "image/png": "[encoded data removed]",
      "text/plain": [
       "<matplotlib.figure.Figure at 0x28e2eedfb70>"
      ]
     },
     "metadata": {},
     "output_type": "display_data"
    }
   ],
   "source": [
    "sns.boxplot(fare)"
   ]
  },
  {
   "cell_type": "code",
   "execution_count": 9,
   "metadata": {},
   "outputs": [
    {
     "data": {
      "image/png": "[encoded data removed]",
      "text/plain": [
       "<matplotlib.figure.Figure at 0x28e3380f400>"
      ]
     },
     "metadata": {},
     "output_type": "display_data"
    },
    {
     "data": {
      "image/png": "[encoded data removed]",
      "text/plain": [
       "<matplotlib.figure.Figure at 0x28e2eedf048>"
      ]
     },
     "metadata": {},
     "output_type": "display_data"
    },
    {
     "data": {
      "image/png": "[encoded data removed]",
      "text/plain": [
       "<matplotlib.figure.Figure at 0x28e33908208>"
      ]
     },
     "metadata": {},
     "output_type": "display_data"
    },
    {
     "data": {
      "image/png": "[encoded data removed]",
      "text/plain": [
       "<matplotlib.figure.Figure at 0x28e33ae7668>"
      ]
     },
     "metadata": {},
     "output_type": "display_data"
    }
   ],
   "source": [
    "sns.set(style=\"darkgrid\")\n",
    "bar = sns.countplot(x=\"Pclass\", data=train1)\n",
    "g = sns.factorplot(x=\"Pclass\", col=\"Survived\", data=train1, kind=\"count\", size=4, aspect=.7);\n",
    "h = sns.factorplot(x=\"Sex\", col=\"Survived\", data=train1, kind=\"count\", size=4, aspect=.7);\n",
    "embarked = sns.factorplot(x=\"Embarked\", col=\"Survived\", data=train1, kind=\"count\", size=4, aspect=.7);"
   ]
  },
  {
   "cell_type": "code",
   "execution_count": 10,
   "metadata": {},
   "outputs": [
    {
     "data": {
      "text/plain": [
       "Index(['Survived', 'Age', 'SibSp', 'Parch', 'Fare', 'Pclass_High Class',\n",
       "       'Pclass_Lower Class', 'Pclass_Medium Class', 'Sex_female', 'Sex_male',\n",
       "       'Embarked_C', 'Embarked_Q', 'Embarked_S'],\n",
       "      dtype='object')"
      ]
     },
     "execution_count": 10,
     "metadata": {},
     "output_type": "execute_result"
    }
   ],
   "source": [
    "# importing the age through regression analysis\n",
    "\n",
    "#target = train1.loc[:,'Survived']\n",
    "#data_wo_survived = train1.iloc[:,1:]\n",
    "\n",
    "agetest = train1[train1['Age'].isnull()]\n",
    "\n",
    "\n",
    "train1['Age']  = train1['Age'].fillna(9999)\n",
    "\n",
    "agetrain = train1[train1['Age'] != 9999]\n",
    "\n",
    "agetrain.describe()\n",
    "\n",
    "\n",
    "# running regression analysis\n",
    "\n",
    "\n",
    "agetrain = pd.get_dummies(agetrain)\n",
    "\n",
    "agetrain.columns\n"
   ]
  },
  {
   "cell_type": "code",
   "execution_count": 11,
   "metadata": {},
   "outputs": [
    {
     "data": {
      "text/plain": [
       "Index(['Survived', 'Pclass', 'Sex', 'Age', 'SibSp', 'Parch', 'Fare',\n",
       "       'Embarked'],\n",
       "      dtype='object')"
      ]
     },
     "execution_count": 11,
     "metadata": {},
     "output_type": "execute_result"
    }
   ],
   "source": [
    "agetest.columns"
   ]
  },
  {
   "cell_type": "code",
   "execution_count": 12,
   "metadata": {},
   "outputs": [],
   "source": [
    "agetest = agetest.iloc[:,[0,1,2,4,5,6,7]]"
   ]
  },
  {
   "cell_type": "code",
   "execution_count": 13,
   "metadata": {},
   "outputs": [],
   "source": [
    "agetest.head()\n",
    "agetest = pd.get_dummies(agetest)"
   ]
  },
  {
   "cell_type": "code",
   "execution_count": 14,
   "metadata": {},
   "outputs": [
    {
     "data": {
      "text/plain": [
       "Index(['Survived', 'SibSp', 'Parch', 'Fare', 'Pclass_High Class',\n",
       "       'Pclass_Lower Class', 'Pclass_Medium Class', 'Sex_female', 'Sex_male',\n",
       "       'Embarked_C', 'Embarked_Q', 'Embarked_S'],\n",
       "      dtype='object')"
      ]
     },
     "execution_count": 14,
     "metadata": {},
     "output_type": "execute_result"
    }
   ],
   "source": [
    "agetest.columns"
   ]
  },
  {
   "cell_type": "code",
   "execution_count": 15,
   "metadata": {},
   "outputs": [
    {
     "name": "stdout",
     "output_type": "stream",
     "text": [
      "Coefficients:  [ -3.89188815  -0.7039223   -0.0221094    8.75649705  -6.7568533\n",
      "  -1.99964375  -1.52891861   1.52891861 -12.99425641  -7.76204648\n",
      " -10.25152765]\n",
      "Intercept:  44.5411738167\n",
      "Variance score: 0.25\n",
      "Mean squared error: 157.97\n"
     ]
    },
    {
     "data": {
      "image/png": "[encoded data removed]",
      "text/plain": [
       "<matplotlib.figure.Figure at 0x28e34fae4a8>"
      ]
     },
     "metadata": {},
     "output_type": "display_data"
    }
   ],
   "source": [
    "from sklearn import linear_model\n",
    "from sklearn.metrics import mean_squared_error, r2_score\n",
    "survive_data_agetrain = agetrain.iloc[:,0]\n",
    "survive_data_agetest = agetest.iloc[:,0]\n",
    "\n",
    "agetest_wo_survive = agetest.iloc[:,1:]\n",
    "\n",
    "agetrain_Y = agetrain.iloc[:,1]\n",
    "agetrain_X = agetrain.iloc[:,2:]\n",
    "\n",
    "regr = linear_model.LinearRegression()\n",
    "regr.fit(agetrain_X, agetrain_Y)\n",
    "\n",
    "\n",
    "# The coefficients\n",
    "print('Coefficients: ', regr.coef_)\n",
    "print('Intercept: ', regr.intercept_)\n",
    "\n",
    "\n",
    "agetrain_Y_predict = regr.predict(agetrain_X)\n",
    "\n",
    "# Explained variance score: 1 is perfect prediction\n",
    "print('Variance score: %.2f' % r2_score(agetrain_Y, agetrain_Y_predict))\n",
    "\n",
    "# The mean squared error\n",
    "print(\"Mean squared error: %.2f\"\n",
    "      % mean_squared_error(agetrain_Y, agetrain_Y_predict))\n",
    "\n",
    "# Plot outputs\n",
    "\n",
    "plt.scatter(agetrain_Y, agetrain_Y_predict, color='blue')\n",
    "plt.xlabel('Actual Age')\n",
    "plt.ylabel('Predict Age')\n",
    "\n",
    "plt.show()"
   ]
  },
  {
   "cell_type": "code",
   "execution_count": 16,
   "metadata": {},
   "outputs": [
    {
     "name": "stderr",
     "output_type": "stream",
     "text": [
      "D:\\Anaconda3\\lib\\site-packages\\statsmodels\\compat\\pandas.py:56: FutureWarning: The pandas.core.datetools module is deprecated and will be removed in a future version. Please use the pandas.tseries module instead.\n",
      "  from pandas.core import datetools\n"
     ]
    },
    {
     "name": "stdout",
     "output_type": "stream",
     "text": [
      "                            OLS Regression Results                            \n",
      "==============================================================================\n",
      "Dep. Variable:                    Age   R-squared:                       0.250\n",
      "Model:                            OLS   Adj. R-squared:                  0.241\n",
      "Method:                 Least Squares   F-statistic:                     26.12\n",
      "Date:                Mon, 13 Nov 2017   Prob (F-statistic):           5.18e-39\n",
      "Time:                        02:48:53   Log-Likelihood:                -2820.4\n",
      "No. Observations:                 714   AIC:                             5661.\n",
      "Df Residuals:                     704   BIC:                             5707.\n",
      "Df Model:                           9                                         \n",
      "Covariance Type:            nonrobust                                         \n",
      "=======================================================================================\n",
      "                          coef    std err          t      P>|t|      [0.025      0.975]\n",
      "---------------------------------------------------------------------------------------\n",
      "SibSp                  -3.8919      0.559     -6.960      0.000      -4.990      -2.794\n",
      "Parch                  -0.7039      0.631     -1.116      0.265      -1.943       0.535\n",
      "Fare                   -0.0221      0.012     -1.861      0.063      -0.045       0.001\n",
      "Pclass_High Class      26.5730      3.682      7.218      0.000      19.345      33.801\n",
      "Pclass_Lower Class     11.0596      3.680      3.005      0.003       3.834      18.286\n",
      "Pclass_Medium Class    15.8168      3.725      4.246      0.000       8.504      23.130\n",
      "Sex_female             25.1958      5.402      4.664      0.000      14.589      35.803\n",
      "Sex_male               28.2536      5.454      5.180      0.000      17.546      38.961\n",
      "Embarked_C            -12.9943      9.056     -1.435      0.152     -30.774       4.785\n",
      "Embarked_Q             -7.7620      9.352     -0.830      0.407     -26.122      10.598\n",
      "Embarked_S            -10.2515      9.045     -1.133      0.257     -28.010       7.507\n",
      "==============================================================================\n",
      "Omnibus:                       17.357   Durbin-Watson:                   1.898\n",
      "Prob(Omnibus):                  0.000   Jarque-Bera (JB):               18.019\n",
      "Skew:                           0.365   Prob(JB):                     0.000122\n",
      "Kurtosis:                       3.269   Cond. No.                     4.81e+17\n",
      "==============================================================================\n",
      "\n",
      "Warnings:\n",
      "[1] Standard Errors assume that the covariance matrix of the errors is correctly specified.\n",
      "[2] The smallest eigenvalue is 1.23e-29. This might indicate that there are\n",
      "strong multicollinearity problems or that the design matrix is singular.\n"
     ]
    }
   ],
   "source": [
    "# Using Statsmodels library to find the linear regression using OLS method.\n",
    "\n",
    "import statsmodels.api as sm\n",
    "import matplotlib.pyplot as plt\n",
    "\n",
    "\n",
    "model = sm.OLS(agetrain_Y, agetrain_X)\n",
    "results = model.fit()\n",
    "print(results.summary())"
   ]
  },
  {
   "cell_type": "markdown",
   "metadata": {},
   "source": [
    "### Since the R2 is pretty low for the model, hence we will try for other regression methods. \n"
   ]
  },
  {
   "cell_type": "code",
   "execution_count": 17,
   "metadata": {},
   "outputs": [
    {
     "data": {
      "image/png": "[encoded data removed]",
      "text/plain": [
       "<matplotlib.figure.Figure at 0x28e35fdba58>"
      ]
     },
     "metadata": {},
     "output_type": "display_data"
    }
   ],
   "source": [
    "from sklearn.preprocessing import PolynomialFeatures\n",
    "\n",
    "x = [0]\n",
    "y = [0]\n",
    "\n",
    "\n",
    "for i in np.arange(1,10,1):\n",
    "    poly = PolynomialFeatures(degree=i,include_bias = False)\n",
    "    X_poly = poly.fit_transform(agetrain_X)\n",
    "\n",
    "    lin_reg = linear_model.LinearRegression()\n",
    "    lin_reg.fit(X_poly,agetrain_Y)\n",
    "    agetrain_Y_pred = lin_reg.predict(X_poly)\n",
    "    x.append(i)\n",
    "    a = r2_score(agetrain_Y, agetrain_Y_pred)\n",
    "    y.append(a)\n",
    "\n",
    "plt.plot(x,y)\n",
    "plt.xlabel(\"degree\")\n",
    "plt.ylabel(\"R2 score\")\n",
    "plt.show()\n",
    "\n"
   ]
  },
  {
   "cell_type": "markdown",
   "metadata": {},
   "source": [
    "### Since at polynomial degree = 5 we are getting a suitable R2 score \n",
    "### ,therefore we will be using polynimial regression of degree 5, to calculate the missing age. "
   ]
  },
  {
   "cell_type": "code",
   "execution_count": 18,
   "metadata": {},
   "outputs": [],
   "source": [
    "poly = PolynomialFeatures(degree=5,include_bias = False)\n",
    "X_poly = poly.fit_transform(agetrain_X)\n",
    "agetest_poly = poly.fit_transform(agetest_wo_survive)\n",
    "\n",
    "lin_reg = linear_model.LinearRegression()\n",
    "lin_reg.fit(X_poly,agetrain_Y)\n",
    "\n",
    "agetest_Y_pred = lin_reg.predict(agetest_poly)\n",
    "\n",
    "int_agetest_Y=[]\n",
    "for i in agetest_Y_pred:\n",
    "    int_agetest_Y.append(int(i))\n",
    "    \n",
    "\n",
    "\n"
   ]
  },
  {
   "cell_type": "code",
   "execution_count": 19,
   "metadata": {},
   "outputs": [],
   "source": [
    "age_pred = np.array(int_agetest_Y)\n",
    "age_predict = pd.DataFrame(age_pred,columns=['Age'])\n",
    "age_predict = age_predict.reset_index()\n",
    "agetest_wo_survive = agetest_wo_survive.reset_index()\n",
    "survive_data_agetest = survive_data_agetest.reset_index()\n",
    "\n",
    "agetest1 = pd.concat([survive_data_agetest,agetest_wo_survive,age_predict],axis=1)\n"
   ]
  },
  {
   "cell_type": "code",
   "execution_count": 20,
   "metadata": {},
   "outputs": [],
   "source": [
    "agetest1 = agetest1.drop(['index','level_0'],axis=1)"
   ]
  },
  {
   "cell_type": "code",
   "execution_count": 21,
   "metadata": {},
   "outputs": [
    {
     "data": {
      "text/html": [
       "<div>\n",
       "<style>\n",
       "    .dataframe thead tr:only-child th {\n",
       "        text-align: right;\n",
       "    }\n",
       "\n",
       "    .dataframe thead th {\n",
       "        text-align: left;\n",
       "    }\n",
       "\n",
       "    .dataframe tbody tr th {\n",
       "        vertical-align: top;\n",
       "    }\n",
       "</style>\n",
       "<table border=\"1\" class=\"dataframe\">\n",
       "  <thead>\n",
       "    <tr style=\"text-align: right;\">\n",
       "      <th></th>\n",
       "      <th>Survived</th>\n",
       "      <th>SibSp</th>\n",
       "      <th>Parch</th>\n",
       "      <th>Fare</th>\n",
       "      <th>Pclass_High Class</th>\n",
       "      <th>Pclass_Lower Class</th>\n",
       "      <th>Pclass_Medium Class</th>\n",
       "      <th>Sex_female</th>\n",
       "      <th>Sex_male</th>\n",
       "      <th>Embarked_C</th>\n",
       "      <th>Embarked_Q</th>\n",
       "      <th>Embarked_S</th>\n",
       "      <th>Age</th>\n",
       "    </tr>\n",
       "  </thead>\n",
       "  <tbody>\n",
       "    <tr>\n",
       "      <th>0</th>\n",
       "      <td>0</td>\n",
       "      <td>0</td>\n",
       "      <td>0</td>\n",
       "      <td>8.4583</td>\n",
       "      <td>0</td>\n",
       "      <td>1</td>\n",
       "      <td>0</td>\n",
       "      <td>0</td>\n",
       "      <td>1</td>\n",
       "      <td>0</td>\n",
       "      <td>1</td>\n",
       "      <td>0</td>\n",
       "      <td>95</td>\n",
       "    </tr>\n",
       "    <tr>\n",
       "      <th>1</th>\n",
       "      <td>1</td>\n",
       "      <td>0</td>\n",
       "      <td>0</td>\n",
       "      <td>13.0000</td>\n",
       "      <td>0</td>\n",
       "      <td>0</td>\n",
       "      <td>1</td>\n",
       "      <td>0</td>\n",
       "      <td>1</td>\n",
       "      <td>0</td>\n",
       "      <td>0</td>\n",
       "      <td>1</td>\n",
       "      <td>33</td>\n",
       "    </tr>\n",
       "    <tr>\n",
       "      <th>2</th>\n",
       "      <td>1</td>\n",
       "      <td>0</td>\n",
       "      <td>0</td>\n",
       "      <td>7.2250</td>\n",
       "      <td>0</td>\n",
       "      <td>1</td>\n",
       "      <td>0</td>\n",
       "      <td>1</td>\n",
       "      <td>0</td>\n",
       "      <td>1</td>\n",
       "      <td>0</td>\n",
       "      <td>0</td>\n",
       "      <td>14</td>\n",
       "    </tr>\n",
       "    <tr>\n",
       "      <th>3</th>\n",
       "      <td>0</td>\n",
       "      <td>0</td>\n",
       "      <td>0</td>\n",
       "      <td>7.2250</td>\n",
       "      <td>0</td>\n",
       "      <td>1</td>\n",
       "      <td>0</td>\n",
       "      <td>0</td>\n",
       "      <td>1</td>\n",
       "      <td>1</td>\n",
       "      <td>0</td>\n",
       "      <td>0</td>\n",
       "      <td>29</td>\n",
       "    </tr>\n",
       "    <tr>\n",
       "      <th>4</th>\n",
       "      <td>1</td>\n",
       "      <td>0</td>\n",
       "      <td>0</td>\n",
       "      <td>7.8792</td>\n",
       "      <td>0</td>\n",
       "      <td>1</td>\n",
       "      <td>0</td>\n",
       "      <td>1</td>\n",
       "      <td>0</td>\n",
       "      <td>0</td>\n",
       "      <td>1</td>\n",
       "      <td>0</td>\n",
       "      <td>19</td>\n",
       "    </tr>\n",
       "  </tbody>\n",
       "</table>\n",
       "</div>"
      ],
      "text/plain": [
       "   Survived  SibSp  Parch     Fare  Pclass_High Class  Pclass_Lower Class  \\\n",
       "0         0      0      0   8.4583                  0                   1   \n",
       "1         1      0      0  13.0000                  0                   0   \n",
       "2         1      0      0   7.2250                  0                   1   \n",
       "3         0      0      0   7.2250                  0                   1   \n",
       "4         1      0      0   7.8792                  0                   1   \n",
       "\n",
       "   Pclass_Medium Class  Sex_female  Sex_male  Embarked_C  Embarked_Q  \\\n",
       "0                    0           0         1           0           1   \n",
       "1                    1           0         1           0           0   \n",
       "2                    0           1         0           1           0   \n",
       "3                    0           0         1           1           0   \n",
       "4                    0           1         0           0           1   \n",
       "\n",
       "   Embarked_S  Age  \n",
       "0           0   95  \n",
       "1           1   33  \n",
       "2           0   14  \n",
       "3           0   29  \n",
       "4           0   19  "
      ]
     },
     "execution_count": 21,
     "metadata": {},
     "output_type": "execute_result"
    }
   ],
   "source": [
    "agetest1.head()"
   ]
  },
  {
   "cell_type": "code",
   "execution_count": 22,
   "metadata": {},
   "outputs": [],
   "source": [
    "# dropping the rows with negative age \n",
    "agetest1 = agetest1.drop(agetest1[agetest1.Age < 0].index)\n",
    "\n",
    "# dropping the rows with age > 100\n",
    "agetest1 = agetest1.drop(agetest1[agetest1.Age > 100].index)"
   ]
  },
  {
   "cell_type": "code",
   "execution_count": 23,
   "metadata": {},
   "outputs": [],
   "source": [
    "\n",
    "# joining the dataframe with age predicted and dataframe with available age.\n",
    "train_final = pd.concat([agetest1,agetrain])\n",
    "\n"
   ]
  },
  {
   "cell_type": "code",
   "execution_count": 24,
   "metadata": {},
   "outputs": [
    {
     "data": {
      "text/html": [
       "<div>\n",
       "<style>\n",
       "    .dataframe thead tr:only-child th {\n",
       "        text-align: right;\n",
       "    }\n",
       "\n",
       "    .dataframe thead th {\n",
       "        text-align: left;\n",
       "    }\n",
       "\n",
       "    .dataframe tbody tr th {\n",
       "        vertical-align: top;\n",
       "    }\n",
       "</style>\n",
       "<table border=\"1\" class=\"dataframe\">\n",
       "  <thead>\n",
       "    <tr style=\"text-align: right;\">\n",
       "      <th></th>\n",
       "      <th>Age</th>\n",
       "      <th>Embarked_C</th>\n",
       "      <th>Embarked_Q</th>\n",
       "      <th>Embarked_S</th>\n",
       "      <th>Fare</th>\n",
       "      <th>Parch</th>\n",
       "      <th>Pclass_High Class</th>\n",
       "      <th>Pclass_Lower Class</th>\n",
       "      <th>Pclass_Medium Class</th>\n",
       "      <th>Sex_female</th>\n",
       "      <th>Sex_male</th>\n",
       "      <th>SibSp</th>\n",
       "      <th>Survived</th>\n",
       "    </tr>\n",
       "  </thead>\n",
       "  <tbody>\n",
       "    <tr>\n",
       "      <th>0</th>\n",
       "      <td>95.0</td>\n",
       "      <td>0</td>\n",
       "      <td>1</td>\n",
       "      <td>0</td>\n",
       "      <td>8.4583</td>\n",
       "      <td>0</td>\n",
       "      <td>0</td>\n",
       "      <td>1</td>\n",
       "      <td>0</td>\n",
       "      <td>0</td>\n",
       "      <td>1</td>\n",
       "      <td>0</td>\n",
       "      <td>0</td>\n",
       "    </tr>\n",
       "    <tr>\n",
       "      <th>1</th>\n",
       "      <td>33.0</td>\n",
       "      <td>0</td>\n",
       "      <td>0</td>\n",
       "      <td>1</td>\n",
       "      <td>13.0000</td>\n",
       "      <td>0</td>\n",
       "      <td>0</td>\n",
       "      <td>0</td>\n",
       "      <td>1</td>\n",
       "      <td>0</td>\n",
       "      <td>1</td>\n",
       "      <td>0</td>\n",
       "      <td>1</td>\n",
       "    </tr>\n",
       "    <tr>\n",
       "      <th>2</th>\n",
       "      <td>14.0</td>\n",
       "      <td>1</td>\n",
       "      <td>0</td>\n",
       "      <td>0</td>\n",
       "      <td>7.2250</td>\n",
       "      <td>0</td>\n",
       "      <td>0</td>\n",
       "      <td>1</td>\n",
       "      <td>0</td>\n",
       "      <td>1</td>\n",
       "      <td>0</td>\n",
       "      <td>0</td>\n",
       "      <td>1</td>\n",
       "    </tr>\n",
       "    <tr>\n",
       "      <th>3</th>\n",
       "      <td>29.0</td>\n",
       "      <td>1</td>\n",
       "      <td>0</td>\n",
       "      <td>0</td>\n",
       "      <td>7.2250</td>\n",
       "      <td>0</td>\n",
       "      <td>0</td>\n",
       "      <td>1</td>\n",
       "      <td>0</td>\n",
       "      <td>0</td>\n",
       "      <td>1</td>\n",
       "      <td>0</td>\n",
       "      <td>0</td>\n",
       "    </tr>\n",
       "    <tr>\n",
       "      <th>4</th>\n",
       "      <td>19.0</td>\n",
       "      <td>0</td>\n",
       "      <td>1</td>\n",
       "      <td>0</td>\n",
       "      <td>7.8792</td>\n",
       "      <td>0</td>\n",
       "      <td>0</td>\n",
       "      <td>1</td>\n",
       "      <td>0</td>\n",
       "      <td>1</td>\n",
       "      <td>0</td>\n",
       "      <td>0</td>\n",
       "      <td>1</td>\n",
       "    </tr>\n",
       "  </tbody>\n",
       "</table>\n",
       "</div>"
      ],
      "text/plain": [
       "    Age  Embarked_C  Embarked_Q  Embarked_S     Fare  Parch  \\\n",
       "0  95.0           0           1           0   8.4583      0   \n",
       "1  33.0           0           0           1  13.0000      0   \n",
       "2  14.0           1           0           0   7.2250      0   \n",
       "3  29.0           1           0           0   7.2250      0   \n",
       "4  19.0           0           1           0   7.8792      0   \n",
       "\n",
       "   Pclass_High Class  Pclass_Lower Class  Pclass_Medium Class  Sex_female  \\\n",
       "0                  0                   1                    0           0   \n",
       "1                  0                   0                    1           0   \n",
       "2                  0                   1                    0           1   \n",
       "3                  0                   1                    0           0   \n",
       "4                  0                   1                    0           1   \n",
       "\n",
       "   Sex_male  SibSp  Survived  \n",
       "0         1      0         0  \n",
       "1         1      0         1  \n",
       "2         0      0         1  \n",
       "3         1      0         0  \n",
       "4         0      0         1  "
      ]
     },
     "execution_count": 24,
     "metadata": {},
     "output_type": "execute_result"
    }
   ],
   "source": [
    "train_final.head()\n",
    "#train_final.shape"
   ]
  },
  {
   "cell_type": "markdown",
   "metadata": {},
   "source": [
    "### Checking for collinearity"
   ]
  },
  {
   "cell_type": "code",
   "execution_count": 25,
   "metadata": {},
   "outputs": [
    {
     "data": {
      "text/plain": [
       "<matplotlib.axes._subplots.AxesSubplot at 0x28e35fdb630>"
      ]
     },
     "execution_count": 25,
     "metadata": {},
     "output_type": "execute_result"
    },
    {
     "data": {
      "image/png": "[encoded data removed]",
      "text/plain": [
       "<matplotlib.figure.Figure at 0x28e35fc5390>"
      ]
     },
     "metadata": {},
     "output_type": "display_data"
    }
   ],
   "source": [
    "import seaborn as sb\n",
    "sb.heatmap(train_final.corr())"
   ]
  },
  {
   "cell_type": "code",
   "execution_count": 26,
   "metadata": {},
   "outputs": [
    {
     "data": {
      "text/html": [
       "<div>\n",
       "<style>\n",
       "    .dataframe thead tr:only-child th {\n",
       "        text-align: right;\n",
       "    }\n",
       "\n",
       "    .dataframe thead th {\n",
       "        text-align: left;\n",
       "    }\n",
       "\n",
       "    .dataframe tbody tr th {\n",
       "        vertical-align: top;\n",
       "    }\n",
       "</style>\n",
       "<table border=\"1\" class=\"dataframe\">\n",
       "  <thead>\n",
       "    <tr style=\"text-align: right;\">\n",
       "      <th></th>\n",
       "      <th>Age</th>\n",
       "      <th>Embarked_C</th>\n",
       "      <th>Embarked_Q</th>\n",
       "      <th>Embarked_S</th>\n",
       "      <th>Fare</th>\n",
       "      <th>Parch</th>\n",
       "      <th>Pclass_High Class</th>\n",
       "      <th>Pclass_Lower Class</th>\n",
       "      <th>Pclass_Medium Class</th>\n",
       "      <th>Sex_female</th>\n",
       "      <th>Sex_male</th>\n",
       "      <th>SibSp</th>\n",
       "      <th>Survived</th>\n",
       "    </tr>\n",
       "  </thead>\n",
       "  <tbody>\n",
       "    <tr>\n",
       "      <th>Age</th>\n",
       "      <td>1.000000</td>\n",
       "      <td>0.029511</td>\n",
       "      <td>-0.012771</td>\n",
       "      <td>-0.026256</td>\n",
       "      <td>0.102511</td>\n",
       "      <td>-0.189084</td>\n",
       "      <td>0.365630</td>\n",
       "      <td>-0.321185</td>\n",
       "      <td>0.004650</td>\n",
       "      <td>-0.128774</td>\n",
       "      <td>0.128774</td>\n",
       "      <td>-0.305680</td>\n",
       "      <td>-0.081162</td>\n",
       "    </tr>\n",
       "    <tr>\n",
       "      <th>Embarked_C</th>\n",
       "      <td>0.029511</td>\n",
       "      <td>1.000000</td>\n",
       "      <td>-0.138387</td>\n",
       "      <td>-0.803142</td>\n",
       "      <td>0.273551</td>\n",
       "      <td>-0.010164</td>\n",
       "      <td>0.296553</td>\n",
       "      <td>-0.156641</td>\n",
       "      <td>-0.123952</td>\n",
       "      <td>0.084137</td>\n",
       "      <td>-0.084137</td>\n",
       "      <td>-0.043817</td>\n",
       "      <td>0.166877</td>\n",
       "    </tr>\n",
       "    <tr>\n",
       "      <th>Embarked_Q</th>\n",
       "      <td>-0.012771</td>\n",
       "      <td>-0.138387</td>\n",
       "      <td>1.000000</td>\n",
       "      <td>-0.468976</td>\n",
       "      <td>-0.111601</td>\n",
       "      <td>-0.070661</td>\n",
       "      <td>-0.143063</td>\n",
       "      <td>0.215463</td>\n",
       "      <td>-0.112235</td>\n",
       "      <td>0.070473</td>\n",
       "      <td>-0.070473</td>\n",
       "      <td>-0.041573</td>\n",
       "      <td>-0.007497</td>\n",
       "    </tr>\n",
       "    <tr>\n",
       "      <th>Embarked_S</th>\n",
       "      <td>-0.026256</td>\n",
       "      <td>-0.803142</td>\n",
       "      <td>-0.468976</td>\n",
       "      <td>1.000000</td>\n",
       "      <td>-0.181780</td>\n",
       "      <td>0.053395</td>\n",
       "      <td>-0.187558</td>\n",
       "      <td>0.016988</td>\n",
       "      <td>0.179331</td>\n",
       "      <td>-0.123688</td>\n",
       "      <td>0.123688</td>\n",
       "      <td>0.066288</td>\n",
       "      <td>-0.150330</td>\n",
       "    </tr>\n",
       "    <tr>\n",
       "      <th>Fare</th>\n",
       "      <td>0.102511</td>\n",
       "      <td>0.273551</td>\n",
       "      <td>-0.111601</td>\n",
       "      <td>-0.181780</td>\n",
       "      <td>1.000000</td>\n",
       "      <td>0.219426</td>\n",
       "      <td>0.590834</td>\n",
       "      <td>-0.424403</td>\n",
       "      <td>-0.108830</td>\n",
       "      <td>0.191660</td>\n",
       "      <td>-0.191660</td>\n",
       "      <td>0.158250</td>\n",
       "      <td>0.274081</td>\n",
       "    </tr>\n",
       "    <tr>\n",
       "      <th>Parch</th>\n",
       "      <td>-0.189084</td>\n",
       "      <td>-0.010164</td>\n",
       "      <td>-0.070661</td>\n",
       "      <td>0.053395</td>\n",
       "      <td>0.219426</td>\n",
       "      <td>1.000000</td>\n",
       "      <td>-0.006362</td>\n",
       "      <td>-0.007558</td>\n",
       "      <td>0.016086</td>\n",
       "      <td>0.245051</td>\n",
       "      <td>-0.245051</td>\n",
       "      <td>0.401943</td>\n",
       "      <td>0.099255</td>\n",
       "    </tr>\n",
       "    <tr>\n",
       "      <th>Pclass_High Class</th>\n",
       "      <td>0.365630</td>\n",
       "      <td>0.296553</td>\n",
       "      <td>-0.143063</td>\n",
       "      <td>-0.187558</td>\n",
       "      <td>0.590834</td>\n",
       "      <td>-0.006362</td>\n",
       "      <td>1.000000</td>\n",
       "      <td>-0.629137</td>\n",
       "      <td>-0.293857</td>\n",
       "      <td>0.103927</td>\n",
       "      <td>-0.103927</td>\n",
       "      <td>-0.026003</td>\n",
       "      <td>0.290519</td>\n",
       "    </tr>\n",
       "    <tr>\n",
       "      <th>Pclass_Lower Class</th>\n",
       "      <td>-0.321185</td>\n",
       "      <td>-0.156641</td>\n",
       "      <td>0.215463</td>\n",
       "      <td>0.016988</td>\n",
       "      <td>-0.424403</td>\n",
       "      <td>-0.007558</td>\n",
       "      <td>-0.629137</td>\n",
       "      <td>1.000000</td>\n",
       "      <td>-0.558100</td>\n",
       "      <td>-0.153972</td>\n",
       "      <td>0.153972</td>\n",
       "      <td>0.041219</td>\n",
       "      <td>-0.335726</td>\n",
       "    </tr>\n",
       "    <tr>\n",
       "      <th>Pclass_Medium Class</th>\n",
       "      <td>0.004650</td>\n",
       "      <td>-0.123952</td>\n",
       "      <td>-0.112235</td>\n",
       "      <td>0.179331</td>\n",
       "      <td>-0.108830</td>\n",
       "      <td>0.016086</td>\n",
       "      <td>-0.293857</td>\n",
       "      <td>-0.558100</td>\n",
       "      <td>1.000000</td>\n",
       "      <td>0.078398</td>\n",
       "      <td>-0.078398</td>\n",
       "      <td>-0.022929</td>\n",
       "      <td>0.102714</td>\n",
       "    </tr>\n",
       "    <tr>\n",
       "      <th>Sex_female</th>\n",
       "      <td>-0.128774</td>\n",
       "      <td>0.084137</td>\n",
       "      <td>0.070473</td>\n",
       "      <td>-0.123688</td>\n",
       "      <td>0.191660</td>\n",
       "      <td>0.245051</td>\n",
       "      <td>0.103927</td>\n",
       "      <td>-0.153972</td>\n",
       "      <td>0.078398</td>\n",
       "      <td>1.000000</td>\n",
       "      <td>-1.000000</td>\n",
       "      <td>0.131345</td>\n",
       "      <td>0.540922</td>\n",
       "    </tr>\n",
       "    <tr>\n",
       "      <th>Sex_male</th>\n",
       "      <td>0.128774</td>\n",
       "      <td>-0.084137</td>\n",
       "      <td>-0.070473</td>\n",
       "      <td>0.123688</td>\n",
       "      <td>-0.191660</td>\n",
       "      <td>-0.245051</td>\n",
       "      <td>-0.103927</td>\n",
       "      <td>0.153972</td>\n",
       "      <td>-0.078398</td>\n",
       "      <td>-1.000000</td>\n",
       "      <td>1.000000</td>\n",
       "      <td>-0.131345</td>\n",
       "      <td>-0.540922</td>\n",
       "    </tr>\n",
       "    <tr>\n",
       "      <th>SibSp</th>\n",
       "      <td>-0.305680</td>\n",
       "      <td>-0.043817</td>\n",
       "      <td>-0.041573</td>\n",
       "      <td>0.066288</td>\n",
       "      <td>0.158250</td>\n",
       "      <td>0.401943</td>\n",
       "      <td>-0.026003</td>\n",
       "      <td>0.041219</td>\n",
       "      <td>-0.022929</td>\n",
       "      <td>0.131345</td>\n",
       "      <td>-0.131345</td>\n",
       "      <td>1.000000</td>\n",
       "      <td>-0.000101</td>\n",
       "    </tr>\n",
       "    <tr>\n",
       "      <th>Survived</th>\n",
       "      <td>-0.081162</td>\n",
       "      <td>0.166877</td>\n",
       "      <td>-0.007497</td>\n",
       "      <td>-0.150330</td>\n",
       "      <td>0.274081</td>\n",
       "      <td>0.099255</td>\n",
       "      <td>0.290519</td>\n",
       "      <td>-0.335726</td>\n",
       "      <td>0.102714</td>\n",
       "      <td>0.540922</td>\n",
       "      <td>-0.540922</td>\n",
       "      <td>-0.000101</td>\n",
       "      <td>1.000000</td>\n",
       "    </tr>\n",
       "  </tbody>\n",
       "</table>\n",
       "</div>"
      ],
      "text/plain": [
       "                          Age  Embarked_C  Embarked_Q  Embarked_S      Fare  \\\n",
       "Age                  1.000000    0.029511   -0.012771   -0.026256  0.102511   \n",
       "Embarked_C           0.029511    1.000000   -0.138387   -0.803142  0.273551   \n",
       "Embarked_Q          -0.012771   -0.138387    1.000000   -0.468976 -0.111601   \n",
       "Embarked_S          -0.026256   -0.803142   -0.468976    1.000000 -0.181780   \n",
       "Fare                 0.102511    0.273551   -0.111601   -0.181780  1.000000   \n",
       "Parch               -0.189084   -0.010164   -0.070661    0.053395  0.219426   \n",
       "Pclass_High Class    0.365630    0.296553   -0.143063   -0.187558  0.590834   \n",
       "Pclass_Lower Class  -0.321185   -0.156641    0.215463    0.016988 -0.424403   \n",
       "Pclass_Medium Class  0.004650   -0.123952   -0.112235    0.179331 -0.108830   \n",
       "Sex_female          -0.128774    0.084137    0.070473   -0.123688  0.191660   \n",
       "Sex_male             0.128774   -0.084137   -0.070473    0.123688 -0.191660   \n",
       "SibSp               -0.305680   -0.043817   -0.041573    0.066288  0.158250   \n",
       "Survived            -0.081162    0.166877   -0.007497   -0.150330  0.274081   \n",
       "\n",
       "                        Parch  Pclass_High Class  Pclass_Lower Class  \\\n",
       "Age                 -0.189084           0.365630           -0.321185   \n",
       "Embarked_C          -0.010164           0.296553           -0.156641   \n",
       "Embarked_Q          -0.070661          -0.143063            0.215463   \n",
       "Embarked_S           0.053395          -0.187558            0.016988   \n",
       "Fare                 0.219426           0.590834           -0.424403   \n",
       "Parch                1.000000          -0.006362           -0.007558   \n",
       "Pclass_High Class   -0.006362           1.000000           -0.629137   \n",
       "Pclass_Lower Class  -0.007558          -0.629137            1.000000   \n",
       "Pclass_Medium Class  0.016086          -0.293857           -0.558100   \n",
       "Sex_female           0.245051           0.103927           -0.153972   \n",
       "Sex_male            -0.245051          -0.103927            0.153972   \n",
       "SibSp                0.401943          -0.026003            0.041219   \n",
       "Survived             0.099255           0.290519           -0.335726   \n",
       "\n",
       "                     Pclass_Medium Class  Sex_female  Sex_male     SibSp  \\\n",
       "Age                             0.004650   -0.128774  0.128774 -0.305680   \n",
       "Embarked_C                     -0.123952    0.084137 -0.084137 -0.043817   \n",
       "Embarked_Q                     -0.112235    0.070473 -0.070473 -0.041573   \n",
       "Embarked_S                      0.179331   -0.123688  0.123688  0.066288   \n",
       "Fare                           -0.108830    0.191660 -0.191660  0.158250   \n",
       "Parch                           0.016086    0.245051 -0.245051  0.401943   \n",
       "Pclass_High Class              -0.293857    0.103927 -0.103927 -0.026003   \n",
       "Pclass_Lower Class             -0.558100   -0.153972  0.153972  0.041219   \n",
       "Pclass_Medium Class             1.000000    0.078398 -0.078398 -0.022929   \n",
       "Sex_female                      0.078398    1.000000 -1.000000  0.131345   \n",
       "Sex_male                       -0.078398   -1.000000  1.000000 -0.131345   \n",
       "SibSp                          -0.022929    0.131345 -0.131345  1.000000   \n",
       "Survived                        0.102714    0.540922 -0.540922 -0.000101   \n",
       "\n",
       "                     Survived  \n",
       "Age                 -0.081162  \n",
       "Embarked_C           0.166877  \n",
       "Embarked_Q          -0.007497  \n",
       "Embarked_S          -0.150330  \n",
       "Fare                 0.274081  \n",
       "Parch                0.099255  \n",
       "Pclass_High Class    0.290519  \n",
       "Pclass_Lower Class  -0.335726  \n",
       "Pclass_Medium Class  0.102714  \n",
       "Sex_female           0.540922  \n",
       "Sex_male            -0.540922  \n",
       "SibSp               -0.000101  \n",
       "Survived             1.000000  "
      ]
     },
     "execution_count": 26,
     "metadata": {},
     "output_type": "execute_result"
    }
   ],
   "source": [
    "train_final.corr()"
   ]
  },
  {
   "cell_type": "code",
   "execution_count": 27,
   "metadata": {},
   "outputs": [],
   "source": [
    "train_final = train_final.drop(['Embarked_S','Sex_female','Pclass_Lower Class'],axis=1)"
   ]
  },
  {
   "cell_type": "code",
   "execution_count": 28,
   "metadata": {},
   "outputs": [
    {
     "data": {
      "text/plain": [
       "<matplotlib.axes._subplots.AxesSubplot at 0x28e00167b38>"
      ]
     },
     "execution_count": 28,
     "metadata": {},
     "output_type": "execute_result"
    },
    {
     "data": {
      "image/png": "[encoded data removed]",
      "text/plain": [
       "<matplotlib.figure.Figure at 0x28e001748d0>"
      ]
     },
     "metadata": {},
     "output_type": "display_data"
    }
   ],
   "source": [
    "sb.heatmap(train_final.corr())"
   ]
  },
  {
   "cell_type": "markdown",
   "metadata": {},
   "source": [
    "## Logistic Regression "
   ]
  },
  {
   "cell_type": "code",
   "execution_count": 29,
   "metadata": {},
   "outputs": [
    {
     "name": "stdout",
     "output_type": "stream",
     "text": [
      "Accuracy : 0.81\n"
     ]
    }
   ],
   "source": [
    "from sklearn.linear_model import LogisticRegression\n",
    "from sklearn.metrics import accuracy_score\n",
    "X_target = train_final.iloc[:,-1]\n",
    "X_var = train_final.iloc[:,:-1]\n",
    "\n",
    "logistic = LogisticRegression()\n",
    "logistic.fit(X_var,X_target)\n",
    "X_pred = logistic.predict(X_var)\n",
    "\n",
    "print(\"Accuracy : %.2f\" % accuracy_score(X_target, X_pred))"
   ]
  },
  {
   "cell_type": "code",
   "execution_count": 30,
   "metadata": {},
   "outputs": [
    {
     "name": "stdout",
     "output_type": "stream",
     "text": [
      "Optimization terminated successfully.\n",
      "         Current function value: 0.457173\n",
      "         Iterations 6\n",
      "                           Logit Regression Results                           \n",
      "==============================================================================\n",
      "Dep. Variable:               Survived   No. Observations:                  856\n",
      "Model:                          Logit   Df Residuals:                      847\n",
      "Method:                           MLE   Df Model:                            8\n",
      "Date:                Mon, 13 Nov 2017   Pseudo R-squ.:                  0.3154\n",
      "Time:                        02:52:01   Log-Likelihood:                -391.34\n",
      "converged:                       True   LL-Null:                       -571.62\n",
      "                                        LLR p-value:                 5.053e-73\n",
      "=======================================================================================\n",
      "                          coef    std err          z      P>|z|      [0.025      0.975]\n",
      "---------------------------------------------------------------------------------------\n",
      "Age                    -0.0139      0.005     -2.584      0.010      -0.024      -0.003\n",
      "Embarked_C              0.6249      0.227      2.752      0.006       0.180       1.070\n",
      "Embarked_Q              0.7134      0.328      2.173      0.030       0.070       1.357\n",
      "Fare                    0.0039      0.003      1.384      0.166      -0.002       0.009\n",
      "Parch                   0.0606      0.113      0.536      0.592      -0.161       0.282\n",
      "Pclass_High Class       2.0512      0.307      6.681      0.000       1.449       2.653\n",
      "Pclass_Medium Class     1.5197      0.229      6.638      0.000       1.071       1.968\n",
      "Sex_male               -2.1921      0.183    -11.958      0.000      -2.551      -1.833\n",
      "SibSp                  -0.1463      0.109     -1.345      0.179      -0.360       0.067\n",
      "=======================================================================================\n"
     ]
    }
   ],
   "source": [
    "import statsmodels.api as sm\n",
    "\n",
    "logit = sm.Logit(X_target,X_var)\n",
    "\n",
    "result = logit.fit()\n",
    "\n",
    "print (result.summary())"
   ]
  },
  {
   "cell_type": "code",
   "execution_count": 31,
   "metadata": {
    "collapsed": true
   },
   "outputs": [],
   "source": [
    "X_var = X_var.drop(['Fare','Parch','SibSp'],axis=1)"
   ]
  },
  {
   "cell_type": "code",
   "execution_count": 32,
   "metadata": {},
   "outputs": [
    {
     "name": "stdout",
     "output_type": "stream",
     "text": [
      "Optimization terminated successfully.\n",
      "         Current function value: 0.459439\n",
      "         Iterations 6\n",
      "                           Logit Regression Results                           \n",
      "==============================================================================\n",
      "Dep. Variable:               Survived   No. Observations:                  856\n",
      "Model:                          Logit   Df Residuals:                      850\n",
      "Method:                           MLE   Df Model:                            5\n",
      "Date:                Mon, 13 Nov 2017   Pseudo R-squ.:                  0.3120\n",
      "Time:                        02:52:21   Log-Likelihood:                -393.28\n",
      "converged:                       True   LL-Null:                       -571.62\n",
      "                                        LLR p-value:                 6.396e-75\n",
      "=======================================================================================\n",
      "                          coef    std err          z      P>|z|      [0.025      0.975]\n",
      "---------------------------------------------------------------------------------------\n",
      "Age                    -0.0137      0.005     -2.609      0.009      -0.024      -0.003\n",
      "Embarked_C              0.6871      0.223      3.080      0.002       0.250       1.124\n",
      "Embarked_Q              0.7290      0.326      2.236      0.025       0.090       1.368\n",
      "Pclass_High Class       2.2868      0.253      9.024      0.000       1.790       2.783\n",
      "Pclass_Medium Class     1.5722      0.225      6.983      0.000       1.131       2.013\n",
      "Sex_male               -2.2241      0.181    -12.262      0.000      -2.580      -1.869\n",
      "=======================================================================================\n"
     ]
    }
   ],
   "source": [
    "import statsmodels.api as sm\n",
    "\n",
    "logit = sm.Logit(X_target,X_var)\n",
    "\n",
    "result = logit.fit()\n",
    "\n",
    "print (result.summary())"
   ]
  },
  {
   "cell_type": "markdown",
   "metadata": {},
   "source": [
    "### odds ratio"
   ]
  },
  {
   "cell_type": "code",
   "execution_count": 36,
   "metadata": {},
   "outputs": [
    {
     "name": "stdout",
     "output_type": "stream",
     "text": [
      "Age                    0.986430\n",
      "Embarked_C             1.987977\n",
      "Embarked_Q             2.073054\n",
      "Pclass_High Class      9.843000\n",
      "Pclass_Medium Class    4.817069\n",
      "Sex_male               0.108160\n",
      "dtype: float64\n"
     ]
    }
   ],
   "source": [
    "import numpy as np\n",
    "print (np.exp(result.params))"
   ]
  },
  {
   "cell_type": "markdown",
   "metadata": {},
   "source": [
    "### odds ratio and 95%CI"
   ]
  },
  {
   "cell_type": "code",
   "execution_count": 37,
   "metadata": {},
   "outputs": [
    {
     "name": "stdout",
     "output_type": "stream",
     "text": [
      "                         2.5%      97.5%        OR\n",
      "Age                  0.976358   0.996606  0.986430\n",
      "Embarked_C           1.283922   3.078107  1.987977\n",
      "Embarked_Q           1.094328   3.927116  2.073054\n",
      "Pclass_High Class    5.989871  16.174747  9.843000\n",
      "Pclass_Medium Class  3.098452   7.488952  4.817069\n",
      "Sex_male             0.075800   0.154336  0.108160\n"
     ]
    }
   ],
   "source": [
    "# odds ratios and 95% CI\n",
    "params = result.params\n",
    "conf = result.conf_int()\n",
    "conf['OR'] = params\n",
    "conf.columns = ['2.5%', '97.5%', 'OR']\n",
    "print (np.exp(conf))"
   ]
  },
  {
   "cell_type": "code",
   "execution_count": 38,
   "metadata": {},
   "outputs": [
    {
     "name": "stdout",
     "output_type": "stream",
     "text": [
      "Accuracy : 0.79\n"
     ]
    }
   ],
   "source": [
    "\n",
    "logistic = LogisticRegression()\n",
    "logistic.fit(X_var,X_target)\n",
    "X_pred = logistic.predict(X_var)\n",
    "\n",
    "print(\"Accuracy : %.2f\" % accuracy_score(X_target, X_pred))"
   ]
  },
  {
   "cell_type": "markdown",
   "metadata": {},
   "source": [
    "## Confusion Matrix"
   ]
  },
  {
   "cell_type": "code",
   "execution_count": 39,
   "metadata": {},
   "outputs": [
    {
     "data": {
      "text/plain": [
       "array([[447,  77],\n",
       "       [103, 229]], dtype=int64)"
      ]
     },
     "execution_count": 39,
     "metadata": {},
     "output_type": "execute_result"
    }
   ],
   "source": [
    "from sklearn.metrics import confusion_matrix\n",
    "\n",
    "confusion_matrix = confusion_matrix(X_target, X_pred)\n",
    "\n",
    "confusion_matrix"
   ]
  },
  {
   "cell_type": "markdown",
   "metadata": {},
   "source": [
    "## Classification Report "
   ]
  },
  {
   "cell_type": "code",
   "execution_count": 40,
   "metadata": {},
   "outputs": [
    {
     "name": "stdout",
     "output_type": "stream",
     "text": [
      "             precision    recall  f1-score   support\n",
      "\n",
      "          0       0.81      0.85      0.83       524\n",
      "          1       0.75      0.69      0.72       332\n",
      "\n",
      "avg / total       0.79      0.79      0.79       856\n",
      "\n"
     ]
    }
   ],
   "source": [
    "from sklearn import metrics \n",
    "from sklearn.metrics import classification_report\n",
    "\n",
    "print(classification_report(X_target, X_pred))"
   ]
  },
  {
   "cell_type": "code",
   "execution_count": 43,
   "metadata": {
    "collapsed": true
   },
   "outputs": [],
   "source": [
    "test.head()\n",
    "# dropping the irrelevant columns\n",
    "test1 = test.drop(['PassengerId','Name','Ticket','Cabin'], axis=1)\n",
    "\n",
    "# nice way to encode the categorical values \n",
    "cleanup_nums = {\"Pclass\":     {1: \"High Class\", 2:\"Medium Class\" , 3:\"Lower Class\"}}\n",
    "test1.replace(cleanup_nums, inplace=True)\n",
    "test1.head()\n",
    "\n",
    "test1 = pd.get_dummies(test1)"
   ]
  },
  {
   "cell_type": "code",
   "execution_count": 44,
   "metadata": {
    "collapsed": true
   },
   "outputs": [],
   "source": [
    "test1.head()\n",
    "test1 = test1.drop(['Embarked_S','Sex_female','Pclass_Lower Class'],axis=1)"
   ]
  },
  {
   "cell_type": "code",
   "execution_count": 45,
   "metadata": {
    "collapsed": true
   },
   "outputs": [],
   "source": [
    "test1 = test1.drop(['Fare','Parch','SibSp'],axis=1)"
   ]
  },
  {
   "cell_type": "markdown",
   "metadata": {},
   "source": [
    "## Predicting the values of test data"
   ]
  },
  {
   "cell_type": "code",
   "execution_count": 46,
   "metadata": {},
   "outputs": [],
   "source": [
    "test1 = test1.dropna()\n",
    "\n",
    "y_pred = logistic.predict(test1)\n"
   ]
  },
  {
   "cell_type": "markdown",
   "metadata": {},
   "source": [
    "## Predicted Values"
   ]
  },
  {
   "cell_type": "code",
   "execution_count": 47,
   "metadata": {},
   "outputs": [
    {
     "data": {
      "text/plain": [
       "array([0, 0, 0, 1, 1, 1, 0, 1, 1, 1, 1, 1, 1, 0, 1, 0, 1, 1, 1, 1, 1, 1, 1,\n",
       "       1, 1, 1, 1, 1, 1, 0, 1, 1, 1, 1, 1, 1, 1, 1, 1, 1, 1, 0, 1, 1, 1, 1,\n",
       "       1, 1, 1, 1, 1, 1, 1, 0, 1, 0, 1, 1, 0, 0, 1, 1, 1, 1, 1, 0, 1, 0, 1,\n",
       "       1, 1, 0, 1, 1, 1, 1, 1, 1, 0, 1, 1, 1, 1, 1, 1, 1, 1, 1, 1, 1, 1, 0,\n",
       "       0, 1, 1, 1, 1, 1, 1, 1, 1, 1, 1, 1, 1, 1, 1, 1, 1, 1, 1, 1, 1, 1, 1,\n",
       "       1, 1, 1, 1, 1, 1, 1, 0, 1, 1, 1, 1, 1, 1, 1, 1, 1, 1, 1, 1, 1, 1, 1,\n",
       "       1, 1, 1, 1, 1, 1, 1, 1, 1, 1, 1, 1, 1, 1, 1, 1, 0, 1, 1, 1, 1, 1, 1,\n",
       "       1, 1, 1, 0, 1, 1, 1, 1, 1, 0, 0, 1, 1, 1, 1, 1, 1, 1, 1, 1, 1, 1, 1,\n",
       "       1, 1, 1, 1, 1, 1, 1, 1, 1, 0, 1, 1, 1, 1, 1, 1, 1, 1, 1, 1, 1, 1, 1,\n",
       "       1, 1, 1, 1, 1, 1, 1, 1, 1, 1, 1, 1, 1, 1, 1, 1, 1, 1, 1, 0, 1, 1, 1,\n",
       "       1, 1, 1, 1, 1, 1, 0, 1, 1, 1, 0, 1, 1, 0, 1, 0, 1, 1, 1, 1, 1, 1, 1,\n",
       "       1, 1, 1, 1, 1, 1, 1, 0, 1, 1, 1, 1, 1, 1, 1, 1, 1, 1, 1, 1, 1, 1, 1,\n",
       "       1, 1, 1, 1, 1, 1, 0, 1, 1, 1, 1, 1, 1, 1, 1, 1, 1, 1, 1, 1, 0, 1, 1,\n",
       "       1, 1, 1, 0, 1, 1, 1, 1, 1, 1, 1, 0, 1, 1, 1, 1, 1, 1, 1, 0, 1, 1, 1,\n",
       "       1, 1, 1, 1, 1, 1, 0, 1, 1, 1], dtype=int64)"
      ]
     },
     "execution_count": 47,
     "metadata": {},
     "output_type": "execute_result"
    }
   ],
   "source": [
    "y_pred"
   ]
  },
  {
   "cell_type": "code",
   "execution_count": 48,
   "metadata": {
    "collapsed": true
   },
   "outputs": [],
   "source": [
    "y = pd.DataFrame(y_pred,columns = ['Survived'])\n",
    "test_pred = pd.concat([y,test],axis=1)"
   ]
  }
 ],
 "metadata": {
  "kernelspec": {
   "display_name": "Python 3",
   "language": "python",
   "name": "python3"
  },
  "language_info": {
   "codemirror_mode": {
    "name": "ipython",
    "version": 3
   },
   "file_extension": ".py",
   "mimetype": "text/x-python",
   "name": "python",
   "nbconvert_exporter": "python",
   "pygments_lexer": "ipython3",
   "version": "3.6.2"
  }
 },
 "nbformat": 4,
 "nbformat_minor": 2
}
